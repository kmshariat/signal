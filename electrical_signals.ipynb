{
  "nbformat": 4,
  "nbformat_minor": 0,
  "metadata": {
    "colab": {
      "name": "electrical_signals.ipynb",
      "provenance": [],
      "authorship_tag": "ABX9TyNveS3FVpVCs1Bs4KTV5+4l",
      "include_colab_link": true
    },
    "kernelspec": {
      "name": "python3",
      "display_name": "Python 3"
    },
    "language_info": {
      "name": "python"
    }
  },
  "cells": [
    {
      "cell_type": "markdown",
      "metadata": {
        "id": "view-in-github",
        "colab_type": "text"
      },
      "source": [
        "<a href=\"https://colab.research.google.com/github/kmshariat/signal/blob/main/electrical_signals.ipynb\" target=\"_parent\"><img src=\"https://colab.research.google.com/assets/colab-badge.svg\" alt=\"Open In Colab\"/></a>"
      ]
    },
    {
      "cell_type": "markdown",
      "source": [
        "# সিগন্যাল কী?\n",
        "\n",
        "\n",
        "---\n",
        "\n",
        "\n",
        "সিগন্যাল শব্দটা শুনলেই আমাদের হয়ত তথ্য বা ইনফরমেশনের কথা মাথায় চলে আসে। আসলে সিগন্যাল জিনিসটি ইনফরমেশন নয়। সিগন্যাল হচ্ছে এমন একটা পদ্ধতি যার মাধ্যমে ইনফরমেশনকে একজায়গা থেকে আরেকজায়গায় নিয়ে যাওয়া যায়। \n",
        "\n",
        "`Defn: A signal is a way of conveying information.`\n",
        "\n",
        "সাধারণভাবে আমরা যত গ্রাফ দেখি কিংবা তরঙ্গের প্লট দেখি সবই সিগন্যাল। আমরা সামনে সিগন্যাল নিয়ে যত আলোচনা করব সবই মূলত একমাত্রিক তরঙ্গের আলোচনা হবে। ওই তরঙ্গের এক্স অক্ষ বরাবর টাইম আর ওয়াই অক্ষ বরাবর সাম্যবস্থা থেকে তরঙ্গের সরণ দেওয়া হবে। তাই সিগন্যালের ডেফিনিশন হিসেবে আরেকবার বলা যায় - \n",
        "\n",
        "`Defn: A signal is a function of time or space that carries some information.` \n",
        "\n",
        "একদম সিম্পল কয়েকটি সিগন্যাল আমরা দেখি। চিত্র ১.১ এ আমরা একটি সাইনুসয়েড গ্রাফ দেখতে পাচ্ছি। চিত্র ১.২ এ আমরা একটি স্কয়ার ওয়েভ দেখতে পাচ্ছি। আর চিত্র ১.৩ এ আমরা একটি ট্রায়াঙ্গুলার ওয়েভ দেখতে পাচ্ছি। এর মধ্যে সবচেয়ে বেসিক জিনিস হচ্ছে সাইনুসয়েড গ্রাফ। এখন অনেকের মনে প্রশ্ন আসতে পারে, সাইনুসয়েড গ্রাফ আবার কী? আপনাদের মধ্যে যারা ত্রিকোণমিতিক ফাংশন পড়েছেন তারা সাইন অনুপাত আর কোসাইন অনুপাতের সাথে পরিচিত। সাইন আর কোসাইন উভয়কে একসাথে সাইনুসয়েড বলে। সাইন আর কোসাইন এর আমরা যদি গ্রাফ আঁকি তাহলে তা দেখতে চিত্র ১.১ এর মত দেখাবে। আপনি যখনই কোন সিগন্যালে সাইন বা কোসাইন দেখবেন তখনই বুঝে নিবেন তার চিত্রে এমন ঢেউ খেলানো কিছু আছে। "
      ],
      "metadata": {
        "id": "s2HktOWOuz_M"
      }
    },
    {
      "cell_type": "code",
      "source": [
        "import numpy as np\n",
        "import matplotlib.pyplot as plt\n",
        "from scipy import signal\n",
        "\n",
        "time = np.linspace(0, 1, 1000)\n",
        "current = signal.square(2*np.pi*2*time) #This signal.squre command creates square signal from sinusoidal signal\n",
        "\n",
        "plt.title(\"Square Wave\") \n",
        "plt.xlabel(\"Time\") #xlabel is used for labeling x axis\n",
        "plt.ylabel(\"Current\") #ylabel is used for labeling y axis\n",
        "\n",
        "plt.plot(time, current, color=\"green\")\n",
        "plt.show()"
      ],
      "metadata": {
        "colab": {
          "base_uri": "https://localhost:8080/",
          "height": 295
        },
        "id": "768AY8sNvIxa",
        "outputId": "4d33ec9f-1445-4655-9ecc-6ede550fc340"
      },
      "execution_count": 2,
      "outputs": [
        {
          "output_type": "display_data",
          "data": {
            "image/png": "[encoded data removed]",
            "text/plain": [
              "<Figure size 432x288 with 1 Axes>"
            ]
          },
          "metadata": {
            "needs_background": "light"
          }
        }
      ]
    }
  ]
}