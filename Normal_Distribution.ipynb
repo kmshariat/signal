{
  "nbformat": 4,
  "nbformat_minor": 0,
  "metadata": {
    "colab": {
      "name": "normalDistribution_2019338067.ipynb",
      "provenance": [],
      "collapsed_sections": [],
      "authorship_tag": "ABX9TyOUHbKP88oA3/Owm0cY3dln",
      "include_colab_link": true
    },
    "kernelspec": {
      "name": "python3",
      "display_name": "Python 3"
    },
    "language_info": {
      "name": "python"
    }
  },
  "cells": [
    {
      "cell_type": "markdown",
      "metadata": {
        "id": "view-in-github",
        "colab_type": "text"
      },
      "source": [
        "<a href=\"https://colab.research.google.com/github/kmshariat/signal/blob/main/Normal_Distribution.ipynb\" target=\"_parent\"><img src=\"https://colab.research.google.com/assets/colab-badge.svg\" alt=\"Open In Colab\"/></a>"
      ]
    },
    {
      "cell_type": "markdown",
      "source": [
        "<h1> Probability Distribution Function </h1>\n",
        "The probability distribution function is defined as :\n",
        "$$\\phi(x) = \\frac{1}{\\sqrt{2\\pi}}e^{-\\frac{x^2}{2}}$$\n",
        "In generalized form:\n",
        "$$\\phi(x; \\mu, \\sigma) = \\frac{1}{\\sigma\\sqrt{2\\pi}}e^{-\\frac{(x-\\mu)^2}{2\\sigma^2}}$$"
      ],
      "metadata": {
        "id": "hJFiU45ig94d"
      }
    },
    {
      "cell_type": "code",
      "execution_count": 6,
      "metadata": {
        "colab": {
          "base_uri": "https://localhost:8080/",
          "height": 265
        },
        "id": "Zcw7qUn3gYA9",
        "outputId": "a605521d-715c-43b8-d7ab-b7786d286b6d"
      },
      "outputs": [
        {
          "output_type": "display_data",
          "data": {
            "text/plain": [
              "<Figure size 432x288 with 1 Axes>"
            ],
            "image/png": "[encoded data removed]"
          },
          "metadata": {
            "needs_background": "light"
          }
        }
      ],
      "source": [
        "import numpy as np\n",
        "import matplotlib.pyplot as plt\n",
        "\n",
        "x = np.linspace(-5,5, 1000)\n",
        "y = (np.e**(-x**2)/2)/np.sqrt(2*np.pi)\n",
        "\n",
        "plt.plot(x,y)\n",
        "plt.show()"
      ]
    },
    {
      "cell_type": "markdown",
      "source": [
        "This codes are written by \\\\\n",
        "K.M Shariat Ullah. Student, Shahjalal University of Science and Technology, Sylhet. Reg: 2019338067\n",
        "E-mail: cast.shariat@gmail.com"
      ],
      "metadata": {
        "id": "8qsLocp2jE5T"
      }
    }
  ]
}